{
 "cells": [
  {
   "cell_type": "raw",
   "id": "dc8df4ff-fc0b-4db4-854d-9ffc0154ee5a",
   "metadata": {},
   "source": [
    "# Python Basics Questions:-"
   ]
  },
  {
   "cell_type": "markdown",
   "id": "00020299-c9b1-4a6b-ab49-806d338aaa60",
   "metadata": {},
   "source": [
    "# 1. What is Python, and why is it popular?\n",
    "     -> Python is a high-level, interpreted programming language known for its simplicity and readability.\n",
    "        Its is popular for its key functionalities like easy to learn and use, its an open source, versatility, large community and resources,\n",
    "        extensive libraries and frameworks, popularity in data science and cross platform."
   ]
  },
  {
   "cell_type": "markdown",
   "id": "c00a421f-fd80-4c4d-a233-bb4001ca45cc",
   "metadata": {},
   "source": [
    "# 2. What is an interpreter in Python?\n",
    "     -> An interpreter is a program that executes Python code directly, without requiring it to be compiled into machine code. \n",
    "        The characteristics of an interpreter are:\n",
    "        1.Line-by-Line Execution: The Python interpreter reads your Python code line by line and immediately executes it.\n",
    "        2.No Compilation Step: Python does not require a separate compilation step to convert the source code into machine code.\n",
    "        3.Dynamic typing: the variable types are determined at runtime rather than during compilation.\n",
    "        4.Interactive Mode: The Python interpreter allows you to interactively write and execute code through the Python shell.\n",
    "        5.Portability: Python code can be run on any platform which have python interpreter installed.     "
   ]
  },
  {
   "cell_type": "markdown",
   "id": "56edc9d5-95ea-4276-8dd4-17228501506d",
   "metadata": {},
   "source": [
    "# 3. What are pre-defined keywords in Python?\n",
    "     -> pre-defined keywords are special identifiers that have a predefined meaning and functionality in the Python programming language.              These keywords cannot be used as identifiers because they are reserved for specific purposes in the language's syntax.\n",
    "        Some key pre-defined keywords are in,for,True,False,and,while,None,try,pass, import,etc."
   ]
  },
  {
   "cell_type": "markdown",
   "id": "eb2349e7-fe0b-416e-8830-5121941d51df",
   "metadata": {},
   "source": [
    "# 4. Can keywords be used as variable names?\n",
    "     -> No, keywords cannot be used as variable names in python because keywords are reserved words that have a specific meaning in the              Python programming language and are part of its syntax. They are predefined by Python, and their purpose is to define the structure          and behavior of the code. Therefore, using them as variable names would result in a syntax error. "
   ]
  },
  {
   "cell_type": "markdown",
   "id": "0282d4b9-f57c-4884-aee0-04ab1fbc3e2f",
   "metadata": {},
   "source": [
    "# 5. What is mutability in Python?\n",
    "     -> Mutability in Python refers to the ability of an object to be changed or modified after it is created. In Python, objects can either         be mutable or immutable, depending on whether their state can be altered. Some mutable data structures are lists,sets and                    dictionaries."
   ]
  },
  {
   "cell_type": "markdown",
   "id": "fb364152-41fd-4325-9d15-bf183446d4d0",
   "metadata": {},
   "source": [
    "# 6.  Why are lists mutable, but tuples are immutable?\n",
    "      -> Lists are mutable because they are  meant to be dynamic, flexible containers that allows to be modify their contents over time.\n",
    "         They are often used when you need a collection of items that can change, such as adding, removing, or altering elements during the           program's execution.\n",
    "         Tuples are immutable to provide a consistent, fixed structure that guarantees data cannot be modified after creation, ensuring               reliability, safety, and performance."
   ]
  },
  {
   "cell_type": "markdown",
   "id": "629e89eb-05dc-40cc-b1ca-8a0955f8448c",
   "metadata": {},
   "source": [
    "# 7.  What is the difference between “==” and “is” operators in Python?\n",
    "      -> The (==) operator,known as equality operator, checks if the values of two objects are equal. It compares the data or content of the          objects, not the objects themselves.If the values are the same, it returns True otherwise it returns False.\n",
    "         The (is) operator,known as identity operator,checks if two variables refer to the same object in memory. It compares the identity            of the objects, not their values. Specifically, it checks whether two variables point to the same location in memory.If the two              objects are the same object,they share the same memory address, is will return True otherwise, it returns False."
   ]
  },
  {
   "cell_type": "markdown",
   "id": "1a8f0bb2-b1d8-49b9-985e-86c5b6729229",
   "metadata": {},
   "source": [
    "#8.  What are logical operators in Python?\n",
    "     -> Logical operators are used to combine conditional statements like if-else,while,for,etc and evaluate expressions that result in True         or False. Some logical operators are and,not,or,etc. "
   ]
  },
  {
   "cell_type": "markdown",
   "id": "4704303a-07a3-4161-8ff6-e9b2d413621d",
   "metadata": {},
   "source": [
    "#9. What is type casting in Python?\n",
    "    -> Type casting in Python refers to the process of converting one data type into another. Python is a dynamically typed language,               meaning that variables do not have fixed types and can be reassigned to different types. Type casting is used to ensure that the data        is of the correct type for a particular operation or function.\n",
    "       There are two types of type casting in python:\n",
    "      1- Implicit type casting:This is automatically done by Python when a smaller data type is converted into a larger data type. Python                                   handles this conversion behind the scenes.\n",
    "      2- Explicit type casting:This requires the programmer to explicitly convert from one type to another using type conversion functions. "
   ]
  },
  {
   "cell_type": "markdown",
   "id": "44ad163e-5a79-4b0e-9c57-992b78bec49a",
   "metadata": {},
   "source": [
    "#10.  What is the difference between implicit and explicit type casting?\n",
    "      -> Implicit type casting happens automatically when Python detects the need for it,usually converting a smaller type to a larger one.\n",
    "         Explicit type casting requires the programmer to manually convert between types using type conversion functions like int(), str(),           float(), etc."
   ]
  },
  {
   "cell_type": "markdown",
   "id": "d310b8d2-eccd-4b2e-ae2b-23a1a596df58",
   "metadata": {},
   "source": [
    "#11.  What is the purpose of conditional statements in Python?\n",
    "      -> The purpose of conditional statements in Python is to allow the program to make decisions and execute specific blocks of code based          on conditions. This enables flexibility, efficient control of program flow, and handling of various situations dynamically.\n",
    "         Some conditional statements are if statement,elsif statement,nested if statement."
   ]
  },
  {
   "cell_type": "markdown",
   "id": "7f339a49-e2e0-43f3-be26-47754928549a",
   "metadata": {},
   "source": [
    "#12.  How does the elif statement work?\n",
    "      -> The elif (\"else if\") statement in Python is used to check multiple conditions in a sequence. It allows you to specify additional             conditions that will be evaluated only if the previous if or elif conditions are not true.\n",
    "         The elif work as:-\n",
    "         1- The if condition is evaluated first. If it evaluates to True, the associated block of code runs, and the rest of the elif and                else conditions are skipped.\n",
    "         2- If the if condition evaluates to False, the next elif condition is checked. If it evaluates to True, its block of code is                    executed.\n",
    "         3- If none of the if or elif conditions are True, the final else block (if present) will be executed."
   ]
  },
  {
   "cell_type": "markdown",
   "id": "9e418384-6dda-4141-bd5f-bd29a76f6d67",
   "metadata": {},
   "source": [
    "#13. What is the difference between for and while loops?\n",
    "     -> for loop used when you know how many times to iterate or iterating over a known iterate.It automatically terminates when the                 iterable is exhausted. It iterates on elements.\n",
    "        while loop used when the number of iterations is not known in advance and is controlled by a condition.It terminates when the                condition becomes False. Its iteration's continues based on condition. "
   ]
  },
  {
   "cell_type": "markdown",
   "id": "9b27e75e-eda8-43ba-b5d1-4bbf0318b668",
   "metadata": {},
   "source": [
    "#14.  Describe a scenario where a while loop is more suitable than a for loop.\n",
    "      -> A while loop is more suitable than a for loop in situations where the number of iterations is not known in advance and the loop              should continue running until a certain condition is met. This is especially true when the loop depends on dynamic or changing data          that is evaluated during each iteration."
   ]
  },
  {
   "cell_type": "raw",
   "id": "de2d289e-0db6-476e-85da-b0e84e692ee7",
   "metadata": {},
   "source": [
    "# Practical Questions:-"
   ]
  },
  {
   "cell_type": "code",
   "execution_count": null,
   "id": "b1eff6b5-cee4-4382-96f0-c343dcabf23c",
   "metadata": {},
   "outputs": [],
   "source": [
    "# 1. Write a Python program to print \"Hello, World!\""
   ]
  },
  {
   "cell_type": "code",
   "execution_count": 11,
   "id": "34856007-d414-4176-8aaf-389b2704f181",
   "metadata": {},
   "outputs": [
    {
     "name": "stdout",
     "output_type": "stream",
     "text": [
      "Hello, World!\n"
     ]
    }
   ],
   "source": [
    "print(\"Hello, World!\")"
   ]
  },
  {
   "cell_type": "code",
   "execution_count": 15,
   "id": "09e3b454-d3d5-4a95-b382-db9adce75bcc",
   "metadata": {},
   "outputs": [],
   "source": [
    "# 2.  Write a Python program that displays your name and age"
   ]
  },
  {
   "cell_type": "code",
   "execution_count": 17,
   "id": "7a67d5d9-02a1-4ef5-9e78-1f6b12638a8f",
   "metadata": {},
   "outputs": [
    {
     "name": "stdout",
     "output_type": "stream",
     "text": [
      "Name:  Priya Sharma\n",
      "Age:  23\n"
     ]
    }
   ],
   "source": [
    "name = \"Priya Sharma\"\n",
    "age = 23\n",
    "print(\"Name: \",name)\n",
    "print(\"Age: \",age)"
   ]
  },
  {
   "cell_type": "code",
   "execution_count": 19,
   "id": "315c1fb2-91e7-485e-b711-f3e1f20d2019",
   "metadata": {},
   "outputs": [],
   "source": [
    "# 3.  Write code to print all the pre-defined keywords in Python using the keyword library."
   ]
  },
  {
   "cell_type": "code",
   "execution_count": 21,
   "id": "0d9507ab-0e63-4c99-aeb5-dad8a0884d37",
   "metadata": {},
   "outputs": [
    {
     "name": "stdout",
     "output_type": "stream",
     "text": [
      "['False', 'None', 'True', 'and', 'as', 'assert', 'async', 'await', 'break', 'class', 'continue', 'def', 'del', 'elif', 'else', 'except', 'finally', 'for', 'from', 'global', 'if', 'import', 'in', 'is', 'lambda', 'nonlocal', 'not', 'or', 'pass', 'raise', 'return', 'try', 'while', 'with', 'yield']\n"
     ]
    }
   ],
   "source": [
    "import keyword\n",
    "\n",
    "print(keyword.kwlist)"
   ]
  },
  {
   "cell_type": "code",
   "execution_count": 23,
   "id": "904dc098-14ff-48bc-9544-cd7284a89b9b",
   "metadata": {},
   "outputs": [],
   "source": [
    "# 4. Write a program that checks if a given word is a Python keyword"
   ]
  },
  {
   "cell_type": "code",
   "execution_count": 27,
   "id": "24ac9eec-51d4-4f75-8c9c-d1b5ed13f1bc",
   "metadata": {},
   "outputs": [
    {
     "name": "stdout",
     "output_type": "stream",
     "text": [
      "Enter a word to check:  def\n"
     ]
    },
    {
     "name": "stdout",
     "output_type": "stream",
     "text": [
      "'def' is a Python keyword.\n"
     ]
    }
   ],
   "source": [
    "import keyword\n",
    "def check_keyword(word):\n",
    "    if keyword.iskeyword(word):\n",
    "        print(f\"'{word}' is a Python keyword.\")\n",
    "    else:\n",
    "        print(f\"'{word}' is not a Python keyword.\")\n",
    "\n",
    "word = input(\"Enter a word to check: \")\n",
    "check_keyword(word)\n"
   ]
  },
  {
   "cell_type": "code",
   "execution_count": 29,
   "id": "ebceaf66-84c1-4c9c-9f5d-c00e5a5b5271",
   "metadata": {},
   "outputs": [],
   "source": [
    "#5.Create a list and tuple in Python, and demonstrate how attempting to change an element works differently for each."
   ]
  },
  {
   "cell_type": "code",
   "execution_count": 35,
   "id": "605299aa-de78-4352-926f-90fcbf2d65e1",
   "metadata": {},
   "outputs": [
    {
     "name": "stdout",
     "output_type": "stream",
     "text": [
      "Original list: [1, 2, 3, 4]\n",
      "Modified list: [1, 20, 3, 4]\n",
      "Original tuple: (1, 2, 3, 4)\n",
      "Error: 'tuple' object does not support item assignment\n"
     ]
    }
   ],
   "source": [
    "my_list = [1, 2, 3, 4]\n",
    "my_tuple = (1, 2, 3, 4)\n",
    "\n",
    "print(\"Original list:\", my_list)\n",
    "my_list[1] = 20 \n",
    "print(\"Modified list:\", my_list)\n",
    "\n",
    "print(\"Original tuple:\", my_tuple)\n",
    "try:\n",
    "    my_tuple[1] = 20  \n",
    "except TypeError as e:\n",
    "    print(\"Error:\", e)\n",
    "\n"
   ]
  },
  {
   "cell_type": "code",
   "execution_count": 41,
   "id": "aa1871cc-e5e9-4413-ae92-23f3c997acaf",
   "metadata": {},
   "outputs": [
    {
     "name": "stdout",
     "output_type": "stream",
     "text": [
      "Before function call:\n",
      "Mutable list: [1, 2, 3]\n",
      "Immutable integer: 5\n",
      "Modified mutable argument inside function: [1, 2, 3, 100]\n",
      "Modified immutable argument inside function: 15\n",
      "\n",
      "After function call:\n",
      "Mutable list: [1, 2, 3, 100]\n",
      "Immutable integer: 5\n"
     ]
    }
   ],
   "source": [
    "#6.Write a function to demonstrate the behavior of mutable and immutable arguments.\n",
    "def demonstrate_mutable_immutable(mutable_arg, immutable_arg):\n",
    "    mutable_arg.append(100)\n",
    "    print(\"Modified mutable argument inside function:\", mutable_arg)\n",
    "    immutable_arg += 10\n",
    "    print(\"Modified immutable argument inside function:\", immutable_arg)\n",
    "mutable_list = [1, 2, 3]\n",
    "immutable_int = 5\n",
    "\n",
    "print(\"Before function call:\")\n",
    "print(\"Mutable list:\", mutable_list)\n",
    "print(\"Immutable integer:\", immutable_int)\n",
    "\n",
    "demonstrate_mutable_immutable(mutable_list, immutable_int)\n",
    "\n",
    "print(\"\\nAfter function call:\")\n",
    "print(\"Mutable list:\", mutable_list)  \n",
    "print(\"Immutable integer:\", immutable_int) \n"
   ]
  },
  {
   "cell_type": "code",
   "execution_count": 43,
   "id": "a44247e7-45ae-4c12-8cb9-3e223be0ebd5",
   "metadata": {},
   "outputs": [
    {
     "name": "stdout",
     "output_type": "stream",
     "text": [
      "Before function call:\n",
      "Mutable list: [1, 2, 3]\n",
      "Immutable integer: 5\n",
      "Modified mutable argument inside function: [1, 2, 3, 100]\n",
      "Modified immutable argument inside function: 15\n",
      "\n",
      "After function call:\n",
      "Mutable list: [1, 2, 3, 100]\n",
      "Immutable integer: 5\n"
     ]
    }
   ],
   "source": [
    "#7. Write a function to demonstrate the behavior of mutable and immutable arguments\n",
    "def demonstrate_mutable_immutable(mutable_arg, immutable_arg):\n",
    "    mutable_arg.append(100)\n",
    "    print(\"Modified mutable argument inside function:\", mutable_arg)\n",
    "    immutable_arg += 10\n",
    "    print(\"Modified immutable argument inside function:\", immutable_arg)\n",
    "mutable_list = [1, 2, 3]\n",
    "immutable_int = 5\n",
    "\n",
    "print(\"Before function call:\")\n",
    "print(\"Mutable list:\", mutable_list)\n",
    "print(\"Immutable integer:\", immutable_int)\n",
    "\n",
    "demonstrate_mutable_immutable(mutable_list, immutable_int)\n",
    "\n",
    "print(\"\\nAfter function call:\")\n",
    "print(\"Mutable list:\", mutable_list)  \n",
    "print(\"Immutable integer:\", immutable_int) \n"
   ]
  },
  {
   "cell_type": "code",
   "execution_count": 45,
   "id": "6a22e83e-f840-406f-95a8-51e9196fb1a1",
   "metadata": {},
   "outputs": [
    {
     "name": "stdout",
     "output_type": "stream",
     "text": [
      "Using 'and' operator:\n",
      "x < y and y > z: True\n",
      "\n",
      "Using 'or' operator:\n",
      "x < y or y < z: True\n",
      "\n",
      "Using 'not' operator:\n",
      "not (x > y): True\n",
      "not (y < z): True\n"
     ]
    }
   ],
   "source": [
    "#8.Write a program to demonstrate the use of logical operators.\n",
    "x = 10\n",
    "y = 20\n",
    "z = 5\n",
    "print(\"Using 'and' operator:\")\n",
    "if x < y and y > z:\n",
    "    print(\"x < y and y > z: True\") \n",
    "\n",
    "if x > y and y > z:\n",
    "    print(\"x > y and y > z: False\")  \n",
    "\n",
    "print(\"\\nUsing 'or' operator:\")\n",
    "if x < y or y < z:\n",
    "    print(\"x < y or y < z: True\")  \n",
    "if x > y or y < z:\n",
    "    print(\"x > y or y < z: False\")  \n",
    "\n",
    "print(\"\\nUsing 'not' operator:\")\n",
    "if not (x > y):\n",
    "    print(\"not (x > y): True\")  \n",
    "if not (y < z):\n",
    "    print(\"not (y < z): True\") "
   ]
  },
  {
   "cell_type": "code",
   "execution_count": 3,
   "id": "2b9f7d18-7622-4129-bf2b-c67c695a483c",
   "metadata": {},
   "outputs": [
    {
     "name": "stdout",
     "output_type": "stream",
     "text": [
      "Enter something: 1232\n"
     ]
    },
    {
     "name": "stdout",
     "output_type": "stream",
     "text": [
      "Conversion in integer: 1232\n",
      "Conversion in float: 1232.0\n",
      "Conversion in boolean: True\n"
     ]
    }
   ],
   "source": [
    "#9. Write a Python program to convert user input from string to integer, float, and boolean types.\n",
    "user_input = input(\"Enter something:\")\n",
    "usr_intinput = int(user_input)\n",
    "print(\"Conversion in integer:\",usr_intinput)\n",
    "usr_floatinput = float(user_input)\n",
    "print(\"Conversion in float:\",usr_floatinput)\n",
    "usr_boolinput = bool(user_input)\n",
    "print(\"Conversion in boolean:\",usr_boolinput)\n"
   ]
  },
  {
   "cell_type": "code",
   "execution_count": 5,
   "id": "aba780ca-cb9f-4bdd-b458-bdc82b39ff87",
   "metadata": {},
   "outputs": [
    {
     "name": "stdout",
     "output_type": "stream",
     "text": [
      "Original list: ['123', '45.67', 'True', '89']\n",
      "List after converting elements to integers: [123, 45, 0, 89]\n",
      "List after converting elements to floats: [123.0, 45.67, 0.0, 89.0]\n",
      "List after converting elements to booleans: [True, True, True, True]\n",
      "List after converting elements to strings: ['123', '45.67', 'True', '89']\n"
     ]
    }
   ],
   "source": [
    "#10. Write code to demonstrate type casting with list elements.\n",
    "# Creating a list with different data types\n",
    "my_list = [\"123\", \"45.67\", \"True\", \"89\"]\n",
    "print(\"Original list:\", my_list)\n",
    "# Convert all elements to integers\n",
    "int_list = []\n",
    "for x in my_list:\n",
    "    try:\n",
    "        int_list.append(int(float(x)))  \n",
    "    except ValueError:\n",
    "        int_list.append(0)  \n",
    "print(\"List after converting elements to integers:\", int_list)\n",
    "# Convert all elements to floats\n",
    "float_list = []\n",
    "for x in my_list:\n",
    "    try:\n",
    "        float_list.append(float(x)) \n",
    "    except ValueError:\n",
    "        float_list.append(0.0) \n",
    "print(\"List after converting elements to floats:\", float_list)\n",
    "# Convert all elements to booleans\n",
    "bool_list = []\n",
    "for x in my_list:\n",
    "    bool_list.append(bool(x))  \n",
    "print(\"List after converting elements to booleans:\", bool_list)\n",
    "# Convert all elements to strings (in case of mixed types)\n",
    "str_list = []\n",
    "for x in my_list:\n",
    "    str_list.append(str(x))  \n",
    "print(\"List after converting elements to strings:\", str_list)\n",
    "\n"
   ]
  },
  {
   "cell_type": "code",
   "execution_count": 7,
   "id": "d6ff751c-e955-4193-9baa-5b937b78aa08",
   "metadata": {},
   "outputs": [
    {
     "name": "stdout",
     "output_type": "stream",
     "text": [
      "Enter a number:  5\n"
     ]
    },
    {
     "name": "stdout",
     "output_type": "stream",
     "text": [
      "The number is positive.\n"
     ]
    }
   ],
   "source": [
    "#11. Write a program that checks if a number is positive, negative, or zero.\n",
    "def check_number(num):\n",
    "    if num > 0:\n",
    "        return \"The number is positive.\"\n",
    "    elif num < 0:\n",
    "        return \"The number is negative.\"\n",
    "    else:\n",
    "        return \"The number is zero.\"\n",
    "number = float(input(\"Enter a number: \"))\n",
    "print(check_number(number))\n"
   ]
  },
  {
   "cell_type": "code",
   "execution_count": 9,
   "id": "a0659350-44df-4204-80f7-4a2d91aec272",
   "metadata": {},
   "outputs": [
    {
     "name": "stdout",
     "output_type": "stream",
     "text": [
      "1\n",
      "2\n",
      "3\n",
      "4\n",
      "5\n",
      "6\n",
      "7\n",
      "8\n",
      "9\n",
      "10\n"
     ]
    }
   ],
   "source": [
    "#12. Write a for loop to print numbers from 1 to 10.\n",
    "for i in range(1, 11):\n",
    "    print(i)"
   ]
  },
  {
   "cell_type": "code",
   "execution_count": 11,
   "id": "89395d9c-f578-4a25-a2a4-2c22adbebdc1",
   "metadata": {},
   "outputs": [
    {
     "name": "stdout",
     "output_type": "stream",
     "text": [
      "The sum of all even numbers between 1 and 50 is: 650\n"
     ]
    }
   ],
   "source": [
    "#13. Write a Python program to find the sum of all even numbers between 1 and 50.\n",
    "sum_of_even_numbers = 0\n",
    "for i in range(1, 51):\n",
    "    if i % 2 == 0:  \n",
    "        sum_of_even_numbers += i  \n",
    "print(\"The sum of all even numbers between 1 and 50 is:\", sum_of_even_numbers)"
   ]
  },
  {
   "cell_type": "code",
   "execution_count": 15,
   "id": "eab4944e-ce88-4aff-9530-f84ba4c486cc",
   "metadata": {},
   "outputs": [
    {
     "name": "stdout",
     "output_type": "stream",
     "text": [
      "Enter a string:  python\n"
     ]
    },
    {
     "name": "stdout",
     "output_type": "stream",
     "text": [
      "Reversed string: nohtyp\n"
     ]
    }
   ],
   "source": [
    "#14.Write a program to reverse a string using a while loop.\n",
    "def reverse_string(input_string):\n",
    "    reversed_string = \"\"\n",
    "    index = len(input_string) - 1\n",
    "    while index >= 0:\n",
    "        reversed_string += input_string[index]  \n",
    "        index -= 1  \n",
    "    return reversed_string\n",
    "string = input(\"Enter a string: \")\n",
    "print(\"Reversed string:\", reverse_string(string))"
   ]
  },
  {
   "cell_type": "code",
   "execution_count": 17,
   "id": "b23dee60-c48e-4a0a-8723-b2460f351b74",
   "metadata": {},
   "outputs": [
    {
     "name": "stdout",
     "output_type": "stream",
     "text": [
      "Enter a number to calculate its factorial:  5\n"
     ]
    },
    {
     "name": "stdout",
     "output_type": "stream",
     "text": [
      "The factorial of 5 is: 120\n"
     ]
    }
   ],
   "source": [
    "#15. Write a Python program to calculate the factorial of a number provided by the user using a while loop.\n",
    "def factorial(n):\n",
    "    result = 1 \n",
    "    while n > 1:\n",
    "        result *= n  \n",
    "        n -= 1  \n",
    "    return result\n",
    "number = int(input(\"Enter a number to calculate its factorial: \"))\n",
    "if number < 0:\n",
    "    print(\"Factorial is not defined for negative numbers.\")\n",
    "else:\n",
    "    print(f\"The factorial of {number} is: {factorial(number)}\")"
   ]
  },
  {
   "cell_type": "code",
   "execution_count": null,
   "id": "e598b218-2c27-4082-9a74-f5fcb9f69104",
   "metadata": {},
   "outputs": [],
   "source": []
  }
 ],
 "metadata": {
  "kernelspec": {
   "display_name": "Python 3 (ipykernel)",
   "language": "python",
   "name": "python3"
  },
  "language_info": {
   "codemirror_mode": {
    "name": "ipython",
    "version": 3
   },
   "file_extension": ".py",
   "mimetype": "text/x-python",
   "name": "python",
   "nbconvert_exporter": "python",
   "pygments_lexer": "ipython3",
   "version": "3.12.7"
  }
 },
 "nbformat": 4,
 "nbformat_minor": 5
}
